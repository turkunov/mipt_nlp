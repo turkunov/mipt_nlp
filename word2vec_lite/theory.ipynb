{
 "cells": [
  {
   "cell_type": "code",
   "execution_count": 5,
   "metadata": {},
   "outputs": [
    {
     "data": {
      "text/plain": [
       "['hello', 'world']"
      ]
     },
     "execution_count": 5,
     "metadata": {},
     "output_type": "execute_result"
    }
   ],
   "source": [
    "import re\n",
    "\n",
    "import string\n",
    "\n",
    "def clean_and_tokenize(inp: str) -> list:\n",
    "\n",
    "    # maps (replaces) each punctuation to \" \"\n",
    "    inp = inp.translate(str.maketrans(string.punctuation, \" \"*len(string.punctuation)))\n",
    "\n",
    "    # replaces multi-spaces with \" \"\n",
    "    inp = re.sub(r'\\s+', ' ', inp.lower())\n",
    "\n",
    "    return inp.split()\n",
    "    \n",
    "tokens = clean_and_tokenize('Hello world!')\n",
    "tokens"
   ]
  },
  {
   "cell_type": "code",
   "execution_count": 8,
   "metadata": {},
   "outputs": [
    {
     "data": {
      "text/plain": [
       "{'hello': 0, 'world': 1}"
      ]
     },
     "execution_count": 8,
     "metadata": {},
     "output_type": "execute_result"
    }
   ],
   "source": [
    "def build_dict(tokens:list) -> tuple[dict,dict]:\n",
    "    word2idx = {}\n",
    "    idx2word = {}\n",
    "    for i, t in enumerate(tokens):\n",
    "        idx2word[i] = t\n",
    "        word2idx[t] = i\n",
    "    return word2idx, idx2word\n",
    "\n",
    "w2i, i2w = build_dict(tokens)\n",
    "w2i"
   ]
  },
  {
   "cell_type": "code",
   "execution_count": null,
   "metadata": {},
   "outputs": [],
   "source": []
  }
 ],
 "metadata": {
  "kernelspec": {
   "display_name": "intense",
   "language": "python",
   "name": "python3"
  },
  "language_info": {
   "codemirror_mode": {
    "name": "ipython",
    "version": 3
   },
   "file_extension": ".py",
   "mimetype": "text/x-python",
   "name": "python",
   "nbconvert_exporter": "python",
   "pygments_lexer": "ipython3",
   "version": "3.12.4"
  }
 },
 "nbformat": 4,
 "nbformat_minor": 2
}
