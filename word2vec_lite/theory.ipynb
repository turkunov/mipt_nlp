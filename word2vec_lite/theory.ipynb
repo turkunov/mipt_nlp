{
 "cells": [
  {
   "cell_type": "markdown",
   "metadata": {},
   "source": [
    "### Collecting data"
   ]
  },
  {
   "cell_type": "code",
   "execution_count": 1,
   "metadata": {},
   "outputs": [
    {
     "data": {
      "text/plain": [
       "['machine',\n",
       " 'learning',\n",
       " 'is',\n",
       " 'the',\n",
       " 'study',\n",
       " 'of',\n",
       " 'computer',\n",
       " 'algorithms',\n",
       " 'that',\n",
       " 'improve',\n",
       " 'automatically',\n",
       " 'through',\n",
       " 'experience',\n",
       " 'it',\n",
       " 'is',\n",
       " 'seen',\n",
       " 'as',\n",
       " 'a',\n",
       " 'subset',\n",
       " 'of',\n",
       " 'artificial',\n",
       " 'intelligence',\n",
       " 'machine',\n",
       " 'learning',\n",
       " 'algorithms',\n",
       " 'build',\n",
       " 'a',\n",
       " 'mathematical',\n",
       " 'model',\n",
       " 'based',\n",
       " 'on',\n",
       " 'sample',\n",
       " 'data',\n",
       " 'known',\n",
       " 'as',\n",
       " 'training',\n",
       " 'data',\n",
       " 'in',\n",
       " 'order',\n",
       " 'to',\n",
       " 'make',\n",
       " 'predictions',\n",
       " 'or',\n",
       " 'decisions',\n",
       " 'without',\n",
       " 'being',\n",
       " 'explicitly',\n",
       " 'programmed',\n",
       " 'to',\n",
       " 'do',\n",
       " 'so',\n",
       " 'machine',\n",
       " 'learning',\n",
       " 'algorithms',\n",
       " 'are',\n",
       " 'used',\n",
       " 'in',\n",
       " 'a',\n",
       " 'wide',\n",
       " 'variety',\n",
       " 'of',\n",
       " 'applications',\n",
       " 'such',\n",
       " 'as',\n",
       " 'email',\n",
       " 'filtering',\n",
       " 'and',\n",
       " 'computer',\n",
       " 'vision',\n",
       " 'where',\n",
       " 'it',\n",
       " 'is',\n",
       " 'difficult',\n",
       " 'or',\n",
       " 'infeasible',\n",
       " 'to',\n",
       " 'develop',\n",
       " 'conventional',\n",
       " 'algorithms',\n",
       " 'to',\n",
       " 'perform',\n",
       " 'the',\n",
       " 'needed',\n",
       " 'tasks']"
      ]
     },
     "execution_count": 1,
     "metadata": {},
     "output_type": "execute_result"
    }
   ],
   "source": [
    "import re\n",
    "\n",
    "import string\n",
    "\n",
    "def clean_and_tokenize(inp: str, only_clean: bool = False) -> list:\n",
    "\n",
    "    # maps (replaces) each punctuation to \" \"\n",
    "    inp = inp.translate(str.maketrans(string.punctuation, \" \"*len(string.punctuation)))\n",
    "\n",
    "    # replaces multi-spaces with \" \"\n",
    "    inp = re.sub(r'\\s+', ' ', inp.lower())\n",
    "\n",
    "    return inp if only_clean else inp.split()\n",
    "\n",
    "text = '''Machine learning is the study of computer algorithms that \\\n",
    "improve automatically through experience. It is seen as a \\\n",
    "subset of artificial intelligence. Machine learning algorithms \\\n",
    "build a mathematical model based on sample data, known as \\\n",
    "training data, in order to make predictions or decisions without \\\n",
    "being explicitly programmed to do so. Machine learning algorithms \\\n",
    "are used in a wide variety of applications, such as email filtering \\\n",
    "and computer vision, where it is difficult or infeasible to develop \\\n",
    "conventional algorithms to perform the needed tasks.'''\n",
    "tokens = clean_and_tokenize(text)\n",
    "tokens"
   ]
  },
  {
   "cell_type": "code",
   "execution_count": 2,
   "metadata": {},
   "outputs": [
    {
     "data": {
      "text/plain": [
       "{'machine': 51,\n",
       " 'learning': 52,\n",
       " 'is': 71,\n",
       " 'the': 81,\n",
       " 'study': 4,\n",
       " 'of': 60,\n",
       " 'computer': 67,\n",
       " 'algorithms': 78,\n",
       " 'that': 8,\n",
       " 'improve': 9,\n",
       " 'automatically': 10,\n",
       " 'through': 11,\n",
       " 'experience': 12,\n",
       " 'it': 70,\n",
       " 'seen': 15,\n",
       " 'as': 63,\n",
       " 'a': 57,\n",
       " 'subset': 18,\n",
       " 'artificial': 20,\n",
       " 'intelligence': 21,\n",
       " 'build': 25,\n",
       " 'mathematical': 27,\n",
       " 'model': 28,\n",
       " 'based': 29,\n",
       " 'on': 30,\n",
       " 'sample': 31,\n",
       " 'data': 36,\n",
       " 'known': 33,\n",
       " 'training': 35,\n",
       " 'in': 56,\n",
       " 'order': 38,\n",
       " 'to': 79,\n",
       " 'make': 40,\n",
       " 'predictions': 41,\n",
       " 'or': 73,\n",
       " 'decisions': 43,\n",
       " 'without': 44,\n",
       " 'being': 45,\n",
       " 'explicitly': 46,\n",
       " 'programmed': 47,\n",
       " 'do': 49,\n",
       " 'so': 50,\n",
       " 'are': 54,\n",
       " 'used': 55,\n",
       " 'wide': 58,\n",
       " 'variety': 59,\n",
       " 'applications': 61,\n",
       " 'such': 62,\n",
       " 'email': 64,\n",
       " 'filtering': 65,\n",
       " 'and': 66,\n",
       " 'vision': 68,\n",
       " 'where': 69,\n",
       " 'difficult': 72,\n",
       " 'infeasible': 74,\n",
       " 'develop': 76,\n",
       " 'conventional': 77,\n",
       " 'perform': 80,\n",
       " 'needed': 82,\n",
       " 'tasks': 83}"
      ]
     },
     "execution_count": 2,
     "metadata": {},
     "output_type": "execute_result"
    }
   ],
   "source": [
    "def build_dict(tokens:list) -> tuple[dict,dict]:\n",
    "    word2idx = {}\n",
    "    idx2word = {}\n",
    "    for i, t in enumerate(tokens):\n",
    "        idx2word[i] = t\n",
    "        word2idx[t] = i\n",
    "    return word2idx, idx2word\n",
    "\n",
    "w2i, i2w = build_dict(tokens)\n",
    "w2i"
   ]
  },
  {
   "cell_type": "markdown",
   "metadata": {},
   "source": [
    "### Creating a training set\n",
    "Originally we have a set of tokens $\\{t_1,t_2,t_3,...,t_N\\}$. We convert this data into a trainable format i.e. $\\{(t_2, t_1), (t_2, t_3), ...\\}$, where the first element would be $x$ and the second - $y$. Hence our learning task will be related to predicting a neighbouring word inside some n-gram window based on the input token. This type of word2vec model is also refered as **skip-gram**."
   ]
  },
  {
   "cell_type": "code",
   "execution_count": 7,
   "metadata": {},
   "outputs": [
    {
     "data": {
      "text/plain": [
       "((330, 60), (330, 60))"
      ]
     },
     "execution_count": 7,
     "metadata": {},
     "output_type": "execute_result"
    }
   ],
   "source": [
    "import numpy as np\n",
    "\n",
    "\n",
    "def ohe(token_idx: int, dict_size: int):\n",
    "    # one-hot single vector encoding\n",
    "    return [0 if i != token_idx else 1 for i in range(dict_size)]\n",
    "\n",
    "def concat(*iterables):\n",
    "    for iterable in iterables:\n",
    "        yield from iterable\n",
    "\n",
    "def generate_training_data(tokens: list, word2idx: dict, window: int):\n",
    "    X = []\n",
    "    y = []\n",
    "    n_tokens = len(tokens)\n",
    "    \n",
    "    for i in range(n_tokens):\n",
    "        idx = concat(\n",
    "            range(max(0, i - window), i), \n",
    "            range(i, min(n_tokens, i + window + 1))\n",
    "        )\n",
    "        for j in idx:\n",
    "            if i == j:\n",
    "                continue # skipping this step in a loop\n",
    "            X.append(ohe(word2idx[tokens[i]], len(word2idx)))\n",
    "            y.append(ohe(word2idx[tokens[j]], len(word2idx)))\n",
    "    \n",
    "    # asarray = array, but does not make a copy of it\n",
    "    return np.asarray(X), np.asarray(y)\n",
    "    \n",
    "X, y = generate_training_data(tokens, w2i, 2)\n",
    "X.shape, y.shape"
   ]
  },
  {
   "cell_type": "markdown",
   "metadata": {},
   "source": [
    "### Creating a model\n",
    "\n",
    "#### Forward pass\n",
    "Our model architecture would be the following:\n",
    "$X_{N\\times V}\\rightarrow Z_1=\\text{ReLU}(A_1=X\\times W^1_{V\\times E})\\rightarrow Z_2=\\sigma(A_2=Z_1\\times W^2_{E\\times V})$, where:\n",
    "* $N$ - batch size\n",
    "* $V$ - vocabulary size\n",
    "* $E$ - embedding dimensions\n",
    "* $\\sigma$ - softmax activation\n",
    "\n",
    "#### Backward pass\n",
    "The most important thing I feel like is needed to be highlighted is that we're always looking at **one input row and NOT $N$**. \n",
    "##### Step 1: Calculating $\\frac{\\partial Z_2}{\\partial A_2}$\n",
    "Gradient varies if we're considering $i=j$ or $i\\neq j$ cases, where $i$ and $j$ correspond to columns, i.e. different classes from $1$ to $C$:\n",
    "* case $i=j$: \n",
    "    $$\n",
    "        \\frac{\\partial}{\\partial a^i_2}[\\frac{exp(a^i_2)}{\\sum^C_k exp(a^k_2)}]=\\frac{exp(a^i_2)\\sum^C_k exp(a^k_2)-exp^2(a^i_2)}{[\\sum^C_k exp(a^k_2)]^2} = \\\\\n",
    "        \n",
    "        =\\frac{exp(a^i_2)}{\\sum^C_k exp(a^k_2)}(1-\\frac{exp(a^i_2)}{\\sum^C_k exp(a^k_2)})=z^i_2(1-z^i_2)\n",
    "    $$\n",
    "* case $i\\neq j$:\n",
    "    $$\n",
    "        \\frac{0-exp^2(a^j_2)exp^2(a^i_2)}{[\\sum^C_k exp(a^k_2)]^2} = -z^i_2z^j_2\n",
    "    $$\n",
    "\n",
    "##### Step 2: Calculating $\\frac{\\partial L}{\\partial A_2}$\n",
    "For this problem we're going to use Cross Entropy loss: $L=-\\sum_i^N y_i\\log{p_i}$ (where $y$ and $p$ are vectors). This gradient is going to be shared across all updated parameters of the model, so it's the most crucial calculation of the whole backward pass:\n",
    "$$\n",
    "\\frac{\\partial L}{\\partial A_2}=-\\sum^C_k y_k\\frac{\\partial\\log{z^k_2}}{\\partial z^k_2}\\times\\frac{\\partial z^k_2}{a^i_2}=\\\\\n",
    "\n",
    "= y_i\\frac{1}{z^i_2}\\times z^i_2(1-z^i_2)+\\sum^C_{k\\neq i}y_k\\frac{1}{z^k_2}z^i_2z^j_2=z^i_2y_i-y_i+\\sum^C_{k\\neq i}z^i_2y_k=\\\\\n",
    "\n",
    "=z^i_2(\\sum^C_{k\\neq i}y_k + y_i)-y_i=z^i_2-y_i\n",
    "$$\n",
    "since $(\\sum^C_{k\\neq i}y_k + y_i)=1$, because $y$ is a onehot-encoded vector of probabilities that add up to $1$.\n",
    "\n",
    "##### Step 3: Calculating $\\frac{\\partial L}{\\partial W_2}$\n",
    "\n",
    "1. First of all, $\\frac{\\partial A_2}{\\partial W^j_2}=Z^i_1$, hence $\\frac{\\partial A_2}{\\partial W_2}=Z^T_1$, which is of shape $E\\times 1$\n",
    "2. Our output shape of a gradient should be $E\\times V$, therefore a proper matrix form of a chain rule would look like this: $\\frac{\\partial L}{\\partial W_2}=\\frac{\\partial L}{\\partial A_2}\\frac{\\partial A_2}{\\partial W_2}=Z^T_1(Z_2-y)$\n",
    "\n",
    "##### Step 4: Calculating $\\frac{\\partial L}{\\partial W_1}$\n",
    "Using a chain rule we write the gradient as $\\frac{\\partial L}{\\partial A_2}\\frac{\\partial A_2}{\\partial Z_1}\\frac{\\partial Z_1}{\\partial A_1}\\frac{\\partial A_1}{\\partial W_1}$\n",
    "1. An arbitrary case of $\\frac{\\partial\\text{ReLU}(x)}{\\partial x}=I_{(0;\\infty)}(x)$, where $I$ is an [indicator function](https://en.wikipedia.org/wiki/Indicator_function). Essentially, it assignes $0$ if $x\\leq0$ and $1$ otherwise, thus zeroing out gradients under a specific condition. Therefore we can multiply this $\\frac{\\partial Z_1}{\\partial A_1}$ with past gradients by using a simplier point-wise multiplication (refered as $\\odot$)\n",
    "2. Combining everything together a proper gradient calculation can be described as follows: $X^T(I_{(0;\\infty)}(A_1)\\odot[(Z_2-y)W^T_2])$"
   ]
  },
  {
   "cell_type": "code",
   "execution_count": 28,
   "metadata": {},
   "outputs": [],
   "source": [
    "def softmax(z: np.ndarray):\n",
    "    return np.exp(z) / np.sum(np.exp(z), axis=1, keepdims=True)\n",
    "\n",
    "def relu(x: np.ndarray):\n",
    "    return np.maximum(0,x)\n",
    "\n",
    "def accuracy(y_pred: np.ndarray, y_true: np.ndarray):\n",
    "        return (np.argmax(y_true, axis=1) == np.argmax(y_pred, axis=1)).sum() / len(y_true)\n",
    "\n",
    "def ce(y_pred: np.ndarray, y_true: np.ndarray):\n",
    "    # cross-entropy loss\n",
    "    return -np.sum(y_true*np.log(y_pred))\n",
    "\n",
    "class optimizer:\n",
    "    \n",
    "    def __init__(self):\n",
    "        pass\n",
    "\n",
    "    def step(self):\n",
    "        return NotImplementedError\n",
    "\n",
    "class SGD_optimizer(optimizer):\n",
    "\n",
    "    def __init__(self):\n",
    "        super().__init__()\n",
    "\n",
    "    def step(self, param: np.ndarray, grad: np.ndarray, lr: float):\n",
    "        return param - lr * grad\n",
    "\n",
    "class word2vec_lite_model:\n",
    "    \n",
    "    def __init__(self, optim: optimizer, embed_dims: int, vocab_size: int, lr: float = 1e-3):\n",
    "        self.W1 = np.random.randn(vocab_size, embed_dims)\n",
    "        self.W2 = np.random.randn(embed_dims, vocab_size)\n",
    "        self.dLdW1 = np.zeros_like(self.W1)\n",
    "        self.dLdW2 = np.zeros_like(self.W2)\n",
    "        self.losses = []\n",
    "        self.accuracies = []\n",
    "        self.lr = lr\n",
    "        self.cache = {}\n",
    "\n",
    "        # NOTE: training is only set up for SGD type optimizer\n",
    "        self.optimizer = optim\n",
    "\n",
    "    def forward(self, X, y=None):\n",
    "        self.cache['f'] = X @ self.W1\n",
    "        if y is not None:\n",
    "            self.cache['z1'] = relu(self.cache['f'])\n",
    "        else:\n",
    "            self.cache['z1'] = self.cache['f']\n",
    "        self.cache['g'] = self.cache['z1'] @ self.W2\n",
    "        self.cache['z2'] = softmax(self.cache['g'])\n",
    "        if y is not None:\n",
    "            self.losses.append(ce(self.cache['z2'],y))\n",
    "            self.accuracies.append(accuracy(self.cache['z2'],y))\n",
    "        return self.cache['z2']\n",
    "\n",
    "    def backward(self, X, y):\n",
    "        dLdg = self.cache['z2'] - y\n",
    "        self.dLdW2 = self.cache['z1'].T @ dLdg\n",
    "        self.dz1df = np.where(self.cache['f'] <= 0, 0, 1)\n",
    "        self.dLdW1 = X.T @ (self.dz1df * (dLdg @ self.W2.T))\n",
    "\n",
    "    def update(self):\n",
    "        self.W1 = self.optimizer.step(param=self.W1, grad=self.dLdW1, lr=self.lr)\n",
    "        self.W2 = self.optimizer.step(param=self.W2, grad=self.dLdW2, lr=self.lr)"
   ]
  },
  {
   "cell_type": "code",
   "execution_count": 31,
   "metadata": {},
   "outputs": [
    {
     "name": "stderr",
     "output_type": "stream",
     "text": [
      "DEBUG:git.cmd:Popen(['git', 'cat-file', '--batch-check'], cwd=c:\\Users\\turku\\Documents\\GitHub\\mipt_nlp, stdin=<valid stream>, shell=False, universal_newlines=False)\n"
     ]
    },
    {
     "data": {
      "text/html": [
       "Tracking run with wandb version 0.19.0"
      ],
      "text/plain": [
       "<IPython.core.display.HTML object>"
      ]
     },
     "metadata": {},
     "output_type": "display_data"
    },
    {
     "data": {
      "text/html": [
       "Run data is saved locally in <code>c:\\Users\\turku\\Documents\\GitHub\\mipt_nlp\\word2vec_lite\\wandb\\run-20250301_140556-8t6u80zx</code>"
      ],
      "text/plain": [
       "<IPython.core.display.HTML object>"
      ]
     },
     "metadata": {},
     "output_type": "display_data"
    },
    {
     "data": {
      "text/html": [
       "Syncing run <strong><a href='https://wandb.ai/turkunov/mipt_nlp_w2v/runs/8t6u80zx' target=\"_blank\">word2vec_v8</a></strong> to <a href='https://wandb.ai/turkunov/mipt_nlp_w2v' target=\"_blank\">Weights & Biases</a> (<a href='https://wandb.me/developer-guide' target=\"_blank\">docs</a>)<br/>"
      ],
      "text/plain": [
       "<IPython.core.display.HTML object>"
      ]
     },
     "metadata": {},
     "output_type": "display_data"
    },
    {
     "data": {
      "text/html": [
       " View project at <a href='https://wandb.ai/turkunov/mipt_nlp_w2v' target=\"_blank\">https://wandb.ai/turkunov/mipt_nlp_w2v</a>"
      ],
      "text/plain": [
       "<IPython.core.display.HTML object>"
      ]
     },
     "metadata": {},
     "output_type": "display_data"
    },
    {
     "data": {
      "text/html": [
       " View run at <a href='https://wandb.ai/turkunov/mipt_nlp_w2v/runs/8t6u80zx' target=\"_blank\">https://wandb.ai/turkunov/mipt_nlp_w2v/runs/8t6u80zx</a>"
      ],
      "text/plain": [
       "<IPython.core.display.HTML object>"
      ]
     },
     "metadata": {},
     "output_type": "display_data"
    },
    {
     "name": "stderr",
     "output_type": "stream",
     "text": [
      "100%|██████████| 500/500 [00:00<00:00, 1867.64it/s, epoch=499, loss=413]\n"
     ]
    },
    {
     "data": {
      "text/html": [
       "\n",
       "    <style>\n",
       "        .wandb-row {\n",
       "            display: flex;\n",
       "            flex-direction: row;\n",
       "            flex-wrap: wrap;\n",
       "            justify-content: flex-start;\n",
       "            width: 100%;\n",
       "        }\n",
       "        .wandb-col {\n",
       "            display: flex;\n",
       "            flex-direction: column;\n",
       "            flex-basis: 100%;\n",
       "            flex: 1;\n",
       "            padding: 10px;\n",
       "        }\n",
       "    </style>\n",
       "<div class=\"wandb-row\"><div class=\"wandb-col\"><h3>Run history:</h3><br/><table class=\"wandb\"><tr><td>epoch</td><td>▁▁▁▂▂▂▂▂▃▃▃▃▃▄▄▄▄▄▄▄▄▄▅▅▅▅▅▅▅▆▆▆▆▆▇▇▇▇▇█</td></tr><tr><td>train_accuracy</td><td>▁▁▁▃▃▄▄▆▆▆▆▆▆▆▇▇▇▇▇█████████████████████</td></tr><tr><td>train_loss</td><td>█▇▆▅▅▄▄▄▃▃▃▃▃▃▃▂▂▂▂▂▂▂▂▂▂▂▂▂▂▁▁▁▁▁▁▁▁▁▁▁</td></tr></table><br/></div><div class=\"wandb-col\"><h3>Run summary:</h3><br/><table class=\"wandb\"><tr><td>epoch</td><td>500</td></tr><tr><td>train_accuracy</td><td>0.43636</td></tr><tr><td>train_loss</td><td>413.35028</td></tr></table><br/></div></div>"
      ],
      "text/plain": [
       "<IPython.core.display.HTML object>"
      ]
     },
     "metadata": {},
     "output_type": "display_data"
    },
    {
     "data": {
      "text/html": [
       " View run <strong style=\"color:#cdcd00\">word2vec_v8</strong> at: <a href='https://wandb.ai/turkunov/mipt_nlp_w2v/runs/8t6u80zx' target=\"_blank\">https://wandb.ai/turkunov/mipt_nlp_w2v/runs/8t6u80zx</a><br/> View project at: <a href='https://wandb.ai/turkunov/mipt_nlp_w2v' target=\"_blank\">https://wandb.ai/turkunov/mipt_nlp_w2v</a><br/>Synced 5 W&B file(s), 0 media file(s), 0 artifact file(s) and 0 other file(s)"
      ],
      "text/plain": [
       "<IPython.core.display.HTML object>"
      ]
     },
     "metadata": {},
     "output_type": "display_data"
    },
    {
     "data": {
      "text/html": [
       "Find logs at: <code>.\\wandb\\run-20250301_140556-8t6u80zx\\logs</code>"
      ],
      "text/plain": [
       "<IPython.core.display.HTML object>"
      ]
     },
     "metadata": {},
     "output_type": "display_data"
    }
   ],
   "source": [
    "from tqdm.auto import tqdm\n",
    "import wandb\n",
    "import yaml\n",
    "import os\n",
    "import logging \n",
    "\n",
    "LOGS_DIR = './logs'\n",
    "RUN_VERSION = 8 # don't forget to change\n",
    "LOG_PARAMS = True\n",
    "LOG_WANDB = True\n",
    "\n",
    "logger = logging.getLogger(__name__)\n",
    "logging.basicConfig(level=logging.DEBUG)\n",
    "def log_run_params(run_version: int, config: dict) -> None:\n",
    "    f_path = os.path.join(LOGS_DIR,f'run_v{run_version}.yml')\n",
    "    with open(f_path, 'w') as outfile:\n",
    "        yaml.dump(config, outfile, default_flow_style=False)\n",
    "    logger.info(f'Saved params to {f_path}')\n",
    "\n",
    "config = {\n",
    "    'lr': 5e-3,\n",
    "    'max_epochs': 500,\n",
    "    'vocab_size': len(w2i),\n",
    "    'model': 'fc_relu_fc_softmax',\n",
    "    'embed_d': 16,\n",
    "    'version': RUN_VERSION\n",
    "}\n",
    "\n",
    "optimizer = SGD_optimizer()\n",
    "model = word2vec_lite_model(\n",
    "    optim=optimizer,\n",
    "    embed_dims=config['embed_d'],\n",
    "    vocab_size=config['vocab_size'],\n",
    "    lr=config['lr'],\n",
    ")\n",
    "config['optimizer'] = optimizer.__class__.__name__\n",
    "\n",
    "if LOG_PARAMS:\n",
    "    log_run_params(RUN_VERSION, config)\n",
    "if LOG_WANDB:\n",
    "    run = wandb.init(\n",
    "        project='mipt_nlp_w2v',\n",
    "        name=f'word2vec_v{RUN_VERSION}',\n",
    "        config=config)\n",
    "pbar = tqdm(range(0,config['max_epochs']))\n",
    "\n",
    "for epoch in pbar:\n",
    "    _ = model.forward(X, y)\n",
    "    model.backward(X, y)\n",
    "    model.update()\n",
    "    pbar.set_postfix(epoch=epoch,loss=model.losses[-1],refresh=False)\n",
    "    if LOG_WANDB:\n",
    "        run.log({\n",
    "            'epoch': epoch+1,\n",
    "            'train_loss': model.losses[-1],\n",
    "            'train_accuracy': model.accuracies[-1]\n",
    "        })\n",
    "if LOG_WANDB:\n",
    "    run.finish()"
   ]
  },
  {
   "cell_type": "code",
   "execution_count": 51,
   "metadata": {},
   "outputs": [],
   "source": [
    "# saving model locally\n",
    "import pickle\n",
    "\n",
    "model_pkl_file = f\"./artifacts/w2v_v{RUN_VERSION}.pkl\"  \n",
    "\n",
    "with open(model_pkl_file, 'wb') as file:  \n",
    "    pickle.dump(model, file)\n",
    "    logger.info('successfully dumped the model')"
   ]
  },
  {
   "cell_type": "markdown",
   "metadata": {},
   "source": [
    "### Evaluating training results"
   ]
  },
  {
   "cell_type": "code",
   "execution_count": 32,
   "metadata": {},
   "outputs": [
    {
     "data": {
      "image/png": "[encoded data removed]",
      "text/plain": [
       "<Figure size 900x300 with 2 Axes>"
      ]
     },
     "metadata": {},
     "output_type": "display_data"
    }
   ],
   "source": [
    "import matplotlib.pyplot as plt\n",
    "\n",
    "logger = logging.getLogger(__name__)\n",
    "logger.setLevel(logging.WARNING)\n",
    "\n",
    "fig, axs = plt.subplots(1, 2, figsize=(9, 3))\n",
    "axs[0].plot(list(range(0,config['max_epochs'])),model.losses)\n",
    "axs[0].set(title='train_loss',xlabel='epoch',ylabel='CE value')\n",
    "axs[1].plot(list(range(0,config['max_epochs'])),model.accuracies)\n",
    "axs[1].set(title='train_accuracy',xlabel='epoch',ylabel='accuracy')\n",
    "fig.tight_layout()"
   ]
  },
  {
   "cell_type": "code",
   "execution_count": 35,
   "metadata": {},
   "outputs": [
    {
     "data": {
      "text/html": [
       "\n",
       "        <iframe\n",
       "            width=\"960\"\n",
       "            height=\"512\"\n",
       "            src=\"https://api.wandb.ai/links/turkunov/f06f0bla\"\n",
       "            frameborder=\"0\"\n",
       "            allowfullscreen\n",
       "            \n",
       "        ></iframe>\n",
       "        "
      ],
      "text/plain": [
       "<IPython.lib.display.IFrame at 0x1e3190ca090>"
      ]
     },
     "execution_count": 35,
     "metadata": {},
     "output_type": "execute_result"
    }
   ],
   "source": [
    "from IPython.display import IFrame\n",
    "\n",
    "wandb_report_url = 'https://api.wandb.ai/links/turkunov/f06f0bla'\n",
    "IFrame(src=wandb_report_url, width=960, height=512)"
   ]
  },
  {
   "cell_type": "markdown",
   "metadata": {},
   "source": [
    "### Playing around with embeddings\n",
    "We're going to try extracting word embeddings as well as find closest candidates to a specific token"
   ]
  },
  {
   "cell_type": "code",
   "execution_count": 29,
   "metadata": {},
   "outputs": [],
   "source": [
    "import pickle\n",
    "\n",
    "# loading the model of version {RUN_VERSION}\n",
    "RUN_VERSION = 8\n",
    "model_pkl_file = f\"./artifacts/w2v_v{RUN_VERSION}.pkl\"  \n",
    "with open(model_pkl_file, 'rb') as file:  \n",
    "    model = pickle.load(file)\n",
    "\n",
    "def find_closest(word: str, w2i: dict, i2w: dict, model: word2vec_lite_model, k: int = 10) -> list:\n",
    "    word_input = np.array([ohe(w2i[word], len(w2i))])\n",
    "    candidates = model.forward(word_input).argsort()[0][::-1]\n",
    "    return list(map(lambda i: i2w[i], candidates[:k]))\n",
    "\n",
    "def generate_embedding(word: str, w2i: dict, model: word2vec_lite_model) -> np.ndarray:\n",
    "    word_input = np.array([ohe(w2i[word], len(w2i))])\n",
    "    _ = model.forward(word_input)\n",
    "    return model.cache['f']"
   ]
  },
  {
   "cell_type": "code",
   "execution_count": 34,
   "metadata": {},
   "outputs": [
    {
     "name": "stdout",
     "output_type": "stream",
     "text": [
      "['based', 'a', 'model', 'data', 'build', 'in', 'known', 'mathematical', 'machine', 'used']\n",
      "['machine', 'artificial', 'learning', 'improve', 'experience', 'automatically', 'to', 'through', 'data', 'the']\n"
     ]
    }
   ],
   "source": [
    "token_examples = ['mathematical', 'intelligence']\n",
    "for token in token_examples:\n",
    "    print(find_closest(token, w2i, i2w, model))"
   ]
  },
  {
   "cell_type": "code",
   "execution_count": 44,
   "metadata": {},
   "outputs": [
    {
     "name": "stdout",
     "output_type": "stream",
     "text": [
      "artificial VS intelligence :: 0.9878555662232731\n",
      "artificial VS machine :: 1.2825832023934158\n"
     ]
    }
   ],
   "source": [
    "def l2(x: np.ndarray, y: np.ndarray) -> float:\n",
    "    return np.sum((x-y)**2)**.5\n",
    "\n",
    "def cos_dist(x: np.ndarray, y: np.ndarray) -> float:\n",
    "    return 1 - (x*y).sum() / ((x**2).sum() * (y**2).sum()) ** .5\n",
    "\n",
    "pairs = [('artificial','intelligence'),('artificial','machine')]\n",
    "for t1, t2 in pairs:\n",
    "    emb1, emb2 = generate_embedding(t1,w2i,model), generate_embedding(t2,w2i,model)\n",
    "    print(f'{t1} VS {t2} :: {cos_dist(emb1, emb2)}')"
   ]
  },
  {
   "cell_type": "markdown",
   "metadata": {},
   "source": [
    "### Placing everything inside `solution.py`"
   ]
  },
  {
   "cell_type": "code",
   "execution_count": null,
   "metadata": {},
   "outputs": [
    {
     "name": "stderr",
     "output_type": "stream",
     "text": [
      "c:\\Users\\turku\\miniconda3\\envs\\intense\\Lib\\site-packages\\tqdm\\auto.py:21: TqdmWarning: IProgress not found. Please update jupyter and ipywidgets. See https://ipywidgets.readthedocs.io/en/stable/user_install.html\n",
      "  from .autonotebook import tqdm as notebook_tqdm\n",
      " 61%|██████    | 304/500 [00:00<00:00, 1256.21it/s, epoch=304, loss=708]\n"
     ]
    }
   ],
   "source": [
    "from solution import train\n",
    "\n",
    "word2vec_dict, m = train(clean_and_tokenize(text,only_clean=True))"
   ]
  },
  {
   "cell_type": "code",
   "execution_count": 3,
   "metadata": {},
   "outputs": [
    {
     "data": {
      "text/plain": [
       "[<matplotlib.lines.Line2D at 0x28635da3260>]"
      ]
     },
     "execution_count": 3,
     "metadata": {},
     "output_type": "execute_result"
    },
    {
     "data": {
      "image/png": "[encoded data removed]",
      "text/plain": [
       "<Figure size 640x480 with 1 Axes>"
      ]
     },
     "metadata": {},
     "output_type": "display_data"
    }
   ],
   "source": [
    "import matplotlib.pyplot as plt\n",
    "\n",
    "plt.plot(list(range(len(m.losses))),m.losses)"
   ]
  }
 ],
 "metadata": {
  "kernelspec": {
   "display_name": "intense",
   "language": "python",
   "name": "python3"
  },
  "language_info": {
   "codemirror_mode": {
    "name": "ipython",
    "version": 3
   },
   "file_extension": ".py",
   "mimetype": "text/x-python",
   "name": "python",
   "nbconvert_exporter": "python",
   "pygments_lexer": "ipython3",
   "version": "3.12.4"
  }
 },
 "nbformat": 4,
 "nbformat_minor": 2
}
