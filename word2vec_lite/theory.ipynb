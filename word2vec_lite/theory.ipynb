{
 "cells": [
  {
   "cell_type": "markdown",
   "metadata": {},
   "source": [
    "### Collecting data"
   ]
  },
  {
   "cell_type": "code",
   "execution_count": 75,
   "metadata": {},
   "outputs": [
    {
     "data": {
      "text/plain": [
       "664"
      ]
     },
     "execution_count": 75,
     "metadata": {},
     "output_type": "execute_result"
    }
   ],
   "source": [
    "import re\n",
    "\n",
    "import string\n",
    "\n",
    "def clean_and_tokenize(inp: str, only_clean: bool = False) -> list:\n",
    "\n",
    "    # maps (replaces) each punctuation to \" \"\n",
    "    inp = inp.translate(str.maketrans(string.punctuation, \" \"*len(string.punctuation)))\n",
    "\n",
    "    # replaces multi-spaces with \" \"\n",
    "    inp = re.sub(r'\\s+', ' ', inp.lower())\n",
    "\n",
    "    return inp if only_clean else inp.split()\n",
    "\n",
    "text = '''Machine learning is the study of computer algorithms that \\\n",
    "improve automatically through experience. It is seen as a \\\n",
    "subset of artificial intelligence. Machine learning algorithms \\\n",
    "build a mathematical model based on sample data, known as \\\n",
    "training data, in order to make predictions or decisions without \\\n",
    "being explicitly programmed to do so. Machine learning algorithms \\\n",
    "are used in a wide variety of applications, such as email filtering \\\n",
    "and computer vision, where it is difficult or infeasible to develop \\\n",
    "conventional algorithms to perform the needed tasks.'''\n",
    "text2 = '''\n",
    "a man and a woman received mostly positive reviews gender identity refers to an individual personal sense of identity as man or              \n",
    " woman man and woman arrested after male attacked a man and a woman both aged in their thirty in nature man and woman i examine the               \n",
    " representation of men and women by focussing on the grammatical behaviour of the noun lemmas man and woman examined the frequency with               \n",
    " the words man men and woman women bachelor and spinster extend to basic terms for male and female human beings she looked at man woman               \n",
    " and boy girl and found that negative words are used more frequently with woman girl than with man boy the four directions are the               \n",
    " directions north east south and west appears to rotate around an axis passing through the north and south poles of the earth in these               \n",
    " locations whether the sun is moving from east to west through north or south by watching its movements the sun rises either north or               \n",
    " south of true east and sets north or south of true west for all locations the sun is seen to rise north of east and set north of west               \n",
    " analogue watch can be used to locate north and south this axis intersects the sphere at the north and south poles which appear to the               \n",
    " observer to lie directly above due north and south respectively on the horizon morning precedes afternoon evening and night in the               \n",
    " sequence of a day also true for evening and night night or nighttime is the period of darkness from sunset to sunrise unlike good               \n",
    " morning good afternoon and good evening good night is not used as a greeting what are the time ranges for morning afternoon evening               \n",
    " night and do they change with location or the seasons empire was ruled by an emperor king an emperor was also king grand prince was               \n",
    " reserved for an emperor or king grand prince in some languages is title before emperor and king start with the king or queen despite               \n",
    " they were an emperor or empress a queen regnant is a female monarch equivalent in rank to a king at the top of the hierarchy of royal               \n",
    " titles is the king and queen the relatives of the king and queen known as prince and princess only last royal titles work what the king               \n",
    " and queen actually do prince became a king a prince the male child of the king limited palette consisting of red yellow black and white               \n",
    " a mixture of yellow and black will appear as a variety of green basic colors include black white red green blue and yellow set of twelve               \n",
    " lack gray white pink red orange yellow green blue nonspectral colors are the colors gray black and white the antonym of white is black               \n",
    " black and white also appealed to architects tied with black and white black and white often represent the contrast between light and               \n",
    " darkness day and night male and female calendar are generally recognized spring summer autumn or fall and winter four seasons winter               \n",
    " spring summer autumn fall in the middle of summer and winter number of seasons between summer and winter can number from one to three               \n",
    " universally translated as spring summer autumn and winter but actually begin much earlier autumn is the season between summer and winter               \n",
    " lasting from march to june or from september to december summer is the season between spring and autumn from june to september or from               \n",
    " december to march winter spring summer and autumn are the seasons of the year december january and february are the winter months march               \n",
    " april and may are the spring months june july and august are the summer months day to learn about days weeks months and years twelve months               \n",
    " make year seven days make week days fit into a week into a month and into a year each new day starts at midnight days in some months to make               \n",
    " them all add up to one year\n",
    "'''\n",
    "tokens = clean_and_tokenize(text2)\n",
    "len(tokens)"
   ]
  },
  {
   "cell_type": "code",
   "execution_count": 76,
   "metadata": {},
   "outputs": [
    {
     "data": {
      "text/plain": [
       "[('a', 0),\n",
       " ('man', 1),\n",
       " ('and', 2),\n",
       " ('woman', 3),\n",
       " ('received', 4),\n",
       " ('mostly', 5)]"
      ]
     },
     "execution_count": 76,
     "metadata": {},
     "output_type": "execute_result"
    }
   ],
   "source": [
    "def build_dict(tokens:list) -> tuple[dict,dict]:\n",
    "    word2idx = {}\n",
    "    cur_index = 0\n",
    "    for i, t in enumerate(tokens):\n",
    "        if t not in word2idx.keys():\n",
    "            word2idx[t] = cur_index\n",
    "            cur_index += 1\n",
    "    idx2word = {v: k for k, v in word2idx.items()}\n",
    "    return word2idx, idx2word\n",
    "\n",
    "w2i, i2w = build_dict(tokens)\n",
    "list(w2i.items())[:6]"
   ]
  },
  {
   "cell_type": "markdown",
   "metadata": {},
   "source": [
    "### Creating a training set\n",
    "Originally we have a set of tokens $\\{t_1,t_2,t_3,...,t_N\\}$. We convert this data into a trainable format i.e. $\\{(t_2, t_1), (t_2, t_3), ...\\}$, where the first element would be $x$ and the second - $y$. Hence our learning task will be related to predicting a neighbouring word inside some n-gram window based on the input token. This type of word2vec model is also refered as **skip-gram**."
   ]
  },
  {
   "cell_type": "code",
   "execution_count": 77,
   "metadata": {},
   "outputs": [],
   "source": [
    "import numpy as np\n",
    "\n",
    "\n",
    "def ohe(token_idx: int, dict_size: int):\n",
    "    # one-hot single vector encoding\n",
    "    return [0 if i != token_idx else 1 for i in range(dict_size)]\n",
    "\n",
    "def concat(*iterables):\n",
    "    for iterable in iterables:\n",
    "        yield from iterable\n",
    "\n",
    "def generate_training_data(tokens: list, word2idx: dict, window: int):\n",
    "    X = []\n",
    "    y = []\n",
    "    n_tokens = len(tokens)\n",
    "    \n",
    "    for i in range(n_tokens):\n",
    "        idx = concat(\n",
    "            range(max(0, i - window), i), \n",
    "            range(i, min(n_tokens, i + window + 1))\n",
    "        )\n",
    "        for j in idx:\n",
    "            if i == j:\n",
    "                continue # skipping this step in a loop\n",
    "            X.append(ohe(word2idx[tokens[i]], len(word2idx)))\n",
    "            y.append(ohe(word2idx[tokens[j]], len(word2idx)))\n",
    "    \n",
    "    # asarray = array, but does not make a copy of it\n",
    "    return np.asarray(X), np.asarray(y)"
   ]
  },
  {
   "cell_type": "markdown",
   "metadata": {},
   "source": [
    "### Creating another variation of a training set\n",
    "Instead of iterating over pairs we're going to sample minibatches of windows $(t_{i},t_{i+1},...,t_{\\text{window\\_size}})$ in order to get an extra average of a loss with respect to $\\text{window\\_size}$. Hence at the center of each window would be our observed token (our $x$) surrounded by neighbouring tokens on both sides (our targets $y$)."
   ]
  },
  {
   "cell_type": "code",
   "execution_count": null,
   "metadata": {},
   "outputs": [
    {
     "data": {
      "text/plain": [
       "(tensor(215), tensor([ 11, 229]))"
      ]
     },
     "execution_count": 83,
     "metadata": {},
     "output_type": "execute_result"
    }
   ],
   "source": [
    "from torch.utils.data import Dataset, DataLoader\n",
    "import torch\n",
    "\n",
    "class windows_ds(Dataset):\n",
    "\n",
    "    def __init__(self, tokens: list, word2idx: dict, window_size: int):\n",
    "        super().__init__()\n",
    "        self.tokens = torch.as_tensor([word2idx[t] for t in tokens])\n",
    "        self.window_size = window_size\n",
    "        self.padding = window_size // 2\n",
    "\n",
    "    def __len__(self):\n",
    "        return len(self.tokens)\n",
    "    \n",
    "    def __getitem__(self, index): \n",
    "        \"\"\"\n",
    "        :returns: x (token index), y (indices of neighbouring tokens)\n",
    "        \"\"\"\n",
    "        if index >= len(self):\n",
    "            raise IndexError   \n",
    "        start = max(0, index - self.padding)\n",
    "        end = min(len(self), index + self.padding + 1)\n",
    "\n",
    "        if start == 0:\n",
    "            end = min(len(self), start + self.window_size)\n",
    "        elif end == len(self):\n",
    "            start = max(0, end - self.window_size)\n",
    "        \n",
    "        return self.tokens[index], torch.cat([self.tokens[start:index],self.tokens[index+1:end]])\n",
    "    \n",
    "train_ds = windows_ds(tokens, w2i, 3)\n",
    "train_ds[662]"
   ]
  },
  {
   "cell_type": "code",
   "execution_count": 84,
   "metadata": {},
   "outputs": [
    {
     "data": {
      "text/plain": [
       "[tensor([119, 212,  73, 145,  31,   2,  63, 181]),\n",
       " tensor([[131,   2],\n",
       "         [  2, 219],\n",
       "         [  2,  74],\n",
       "         [ 12,  18],\n",
       "         [ 16,  40],\n",
       "         [181, 182],\n",
       "         [205, 206],\n",
       "         [ 44,   2]])]"
      ]
     },
     "execution_count": 84,
     "metadata": {},
     "output_type": "execute_result"
    }
   ],
   "source": [
    "train_dl = DataLoader(train_ds, batch_size=8, shuffle=True)\n",
    "next(iter(train_dl))"
   ]
  },
  {
   "cell_type": "markdown",
   "metadata": {},
   "source": [
    "### Creating word2vec from scratch using only numpy\n",
    "\n",
    "#### Forward pass\n",
    "Our model architecture **could** be the following:\n",
    "$X_{N\\times V}\\rightarrow Z_1=\\text{ReLU}(A_1=X\\times W^1_{V\\times E})\\rightarrow Z_2=\\sigma(A_2=Z_1\\times W^2_{E\\times V})$, where:\n",
    "* $N$ - batch size\n",
    "* $V$ - vocabulary size\n",
    "* $E$ - embedding dimensions\n",
    "* $\\sigma$ - softmax activation\n",
    "\n",
    "#### **upd:**\n",
    "However ReLU is a pretty challenging activation for a word2vec model, as it adds more non-linearity, which sparses out embeddings eventually making their quality worse than it could be. Hence, we're going to replace ReLU activation with another FC layer.\n",
    "\n",
    "#### Backward pass\n",
    "The most important thing I feel like is needed to be highlighted is that we're always looking at **one input row and NOT $N$**. \n",
    "##### Step 1: Calculating $\\frac{\\partial Z_2}{\\partial A_2}$\n",
    "Gradient varies if we're considering $i=j$ or $i\\neq j$ cases, where $i$ and $j$ correspond to columns, i.e. different classes from $1$ to $C$:\n",
    "* case $i=j$: \n",
    "    $$\n",
    "        \\frac{\\partial}{\\partial a^i_2}[\\frac{exp(a^i_2)}{\\sum^C_k exp(a^k_2)}]=\\frac{exp(a^i_2)\\sum^C_k exp(a^k_2)-exp^2(a^i_2)}{[\\sum^C_k exp(a^k_2)]^2} = \\\\\n",
    "        \n",
    "        =\\frac{exp(a^i_2)}{\\sum^C_k exp(a^k_2)}(1-\\frac{exp(a^i_2)}{\\sum^C_k exp(a^k_2)})=z^i_2(1-z^i_2)\n",
    "    $$\n",
    "* case $i\\neq j$:\n",
    "    $$\n",
    "        \\frac{0-exp^2(a^j_2)exp^2(a^i_2)}{[\\sum^C_k exp(a^k_2)]^2} = -z^i_2z^j_2\n",
    "    $$\n",
    "\n",
    "##### Step 2: Calculating $\\frac{\\partial L}{\\partial A_2}$\n",
    "For this problem we're going to use Cross Entropy loss: $L=-\\sum_i^N y_i\\log{p_i}$ (where $y$ and $p$ are vectors). This gradient is going to be shared across all updated parameters of the model, so it's the most crucial calculation of the whole backward pass:\n",
    "$$\n",
    "\\frac{\\partial L}{\\partial A_2}=-\\sum^C_k y_k\\frac{\\partial\\log{z^k_2}}{\\partial z^k_2}\\times\\frac{\\partial z^k_2}{a^i_2}=\\\\\n",
    "\n",
    "= y_i\\frac{1}{z^i_2}\\times z^i_2(1-z^i_2)+\\sum^C_{k\\neq i}y_k\\frac{1}{z^k_2}z^i_2z^j_2=z^i_2y_i-y_i+\\sum^C_{k\\neq i}z^i_2y_k=\\\\\n",
    "\n",
    "=z^i_2(\\sum^C_{k\\neq i}y_k + y_i)-y_i=z^i_2-y_i\n",
    "$$\n",
    "since $(\\sum^C_{k\\neq i}y_k + y_i)=1$, because $y$ is a onehot-encoded vector of probabilities that add up to $1$.\n",
    "\n",
    "##### Step 3: Calculating $\\frac{\\partial L}{\\partial W_2}$\n",
    "\n",
    "1. First of all, $\\frac{\\partial A_2}{\\partial W^j_2}=Z^i_1$, hence $\\frac{\\partial A_2}{\\partial W_2}=Z^T_1$, which is of shape $E\\times 1$\n",
    "2. Our output shape of a gradient should be $E\\times V$, therefore a proper matrix form of a chain rule would look like this: $\\frac{\\partial L}{\\partial W_2}=\\frac{\\partial L}{\\partial A_2}\\frac{\\partial A_2}{\\partial W_2}=Z^T_1(Z_2-y)$\n",
    "\n",
    "##### Step 4: Calculating $\\frac{\\partial L}{\\partial W_1}$\n",
    "Using a chain rule we write the gradient as $\\frac{\\partial L}{\\partial A_2}\\frac{\\partial A_2}{\\partial Z_1}\\frac{\\partial Z_1}{\\partial A_1}\\frac{\\partial A_1}{\\partial W_1}$\n",
    "1. An arbitrary case of $\\frac{\\partial\\text{ReLU}(x)}{\\partial x}=I_{(0;\\infty)}(x)$, where $I$ is an [indicator function](https://en.wikipedia.org/wiki/Indicator_function). Essentially, it assignes $0$ if $x\\leq0$ and $1$ otherwise, thus zeroing out gradients under a specific condition. Therefore we can multiply this $\\frac{\\partial Z_1}{\\partial A_1}$ with past gradients by using a simplier point-wise multiplication (refered as $\\odot$)\n",
    "2. Combining everything together a proper gradient calculation can be described as follows: $X^T(I_{(0;\\infty)}(A_1)\\odot[(Z_2-y)W^T_2])$"
   ]
  },
  {
   "cell_type": "code",
   "execution_count": 90,
   "metadata": {},
   "outputs": [],
   "source": [
    "def softmax(z: np.ndarray):\n",
    "    z = z - z.max(axis=1, keepdims=True)\n",
    "    return np.exp(z) / np.sum(np.exp(z), axis=1, keepdims=True)\n",
    "\n",
    "def relu(x: np.ndarray):\n",
    "    return np.maximum(0,x)\n",
    "\n",
    "def accuracy(y_pred: np.ndarray, y_true: np.ndarray):\n",
    "        return (np.argmax(y_true, axis=1) == np.argmax(y_pred, axis=1)).sum() / len(y_true)\n",
    "\n",
    "def ce(y_pred: np.ndarray, y_true: np.ndarray):\n",
    "    # cross-entropy loss\n",
    "    return -np.sum(y_true*np.log(y_pred))\n",
    "\n",
    "class optimizer:\n",
    "    \n",
    "    def __init__(self):\n",
    "        pass\n",
    "\n",
    "    def step(self):\n",
    "        return NotImplementedError\n",
    "\n",
    "class SGD_optimizer(optimizer):\n",
    "\n",
    "    def __init__(self):\n",
    "        super().__init__()\n",
    "\n",
    "    def step(self, param: np.ndarray, grad: np.ndarray, lr: float):\n",
    "        return param - lr * grad\n",
    "\n",
    "class word2vec_lite_model_with_relu:\n",
    "    \n",
    "    def __init__(self, optim: optimizer, embed_dims: int, vocab_size: int, lr: float = 1e-3):\n",
    "        self.W1 = np.random.randn(vocab_size, embed_dims)\n",
    "        self.W2 = np.random.randn(embed_dims, vocab_size)\n",
    "        self.dLdW1 = np.zeros_like(self.W1)\n",
    "        self.dLdW2 = np.zeros_like(self.W2)\n",
    "        self.losses = []\n",
    "        self.accuracies = []\n",
    "        self.lr = lr\n",
    "        self.cache = {}\n",
    "\n",
    "        # NOTE: training is only set up for SGD type optimizer\n",
    "        self.optimizer = optim\n",
    "\n",
    "    def forward(self, X, y=None):\n",
    "        self.cache['f'] = X @ self.W1\n",
    "        if y is not None:\n",
    "            self.cache['z1'] = relu(self.cache['f'])\n",
    "        else:\n",
    "            self.cache['z1'] = self.cache['f']\n",
    "        self.cache['g'] = self.cache['z1'] @ self.W2\n",
    "        self.cache['z2'] = softmax(self.cache['g'])\n",
    "        if y is not None:\n",
    "            self.losses.append(ce(self.cache['z2'],y))\n",
    "            self.accuracies.append(accuracy(self.cache['z2'],y))\n",
    "        return self.cache['z2']\n",
    "\n",
    "    def backward(self, X, y):\n",
    "        dLdg = self.cache['z2'] - y\n",
    "        self.dLdW2 = self.cache['z1'].T @ dLdg\n",
    "        self.dz1df = np.where(self.cache['f'] <= 0, 0, 1)\n",
    "        self.dLdW1 = X.T @ (self.dz1df * (dLdg @ self.W2.T))\n",
    "\n",
    "    def update(self):\n",
    "        self.W1 = self.optimizer.step(param=self.W1, grad=self.dLdW1, lr=self.lr)\n",
    "        self.W2 = self.optimizer.step(param=self.W2, grad=self.dLdW2, lr=self.lr)\n",
    "\n",
    "class word2vec_lite_model_only_fc:\n",
    "    \n",
    "    def __init__(self, optim: optimizer, embed_dims: int, hidden_dims: int, vocab_size: int, lr: float = 1e-3):\n",
    "        self.W1 = np.random.randn(vocab_size, embed_dims)\n",
    "        self.W2 = np.random.randn(embed_dims, vocab_size)\n",
    "        self.dLdW1 = np.zeros_like(self.W1)\n",
    "        self.dLdW2 = np.zeros_like(self.W2)\n",
    "        self.losses = []\n",
    "        self.accuracies = []\n",
    "        self.lr = lr\n",
    "        self.cache = {}\n",
    "        self.optimizer = optim\n",
    "\n",
    "    def forward(self, X, y=None):\n",
    "        self.cache['a1'] = X @ self.W1\n",
    "        self.cache['a2'] = self.cache['a1'] @ self.W2\n",
    "        self.cache['z'] = softmax(self.cache['a2'])\n",
    "        if y is not None:\n",
    "            self.losses.append(ce(self.cache['z'],y))\n",
    "            self.accuracies.append(accuracy(self.cache['z'],y))\n",
    "        return self.cache['z']\n",
    "\n",
    "    def backward(self, X, y):\n",
    "        dLdg = self.cache['z'] - y\n",
    "        self.dLdW2 = self.cache['a1'].T @ dLdg\n",
    "        self.dLdW1 = X.T @ (dLdg @ self.W2.T)\n",
    "\n",
    "    def update(self, grad_clip:bool=False):\n",
    "        if grad_clip:\n",
    "            self.dLdW1 = self.dLdW1.clip(-1,1)\n",
    "            self.dLdW2 = self.dLdW2.clip(-1,1)\n",
    "        self.W1 = self.optimizer.step(param=self.W1, grad=self.dLdW1, lr=self.lr)\n",
    "        self.W2 = self.optimizer.step(param=self.W2, grad=self.dLdW2, lr=self.lr)"
   ]
  },
  {
   "cell_type": "code",
   "execution_count": 93,
   "metadata": {},
   "outputs": [
    {
     "name": "stderr",
     "output_type": "stream",
     "text": [
      "DEBUG:git.cmd:Popen(['git', 'cat-file', '--batch-check'], cwd=c:\\Users\\turku\\Documents\\GitHub\\mipt_nlp, stdin=<valid stream>, shell=False, universal_newlines=False)\n"
     ]
    },
    {
     "data": {
      "text/html": [
       "Tracking run with wandb version 0.19.0"
      ],
      "text/plain": [
       "<IPython.core.display.HTML object>"
      ]
     },
     "metadata": {},
     "output_type": "display_data"
    },
    {
     "data": {
      "text/html": [
       "Run data is saved locally in <code>c:\\Users\\turku\\Documents\\GitHub\\mipt_nlp\\word2vec_lite\\wandb\\run-20250311_214145-e4zflnt4</code>"
      ],
      "text/plain": [
       "<IPython.core.display.HTML object>"
      ]
     },
     "metadata": {},
     "output_type": "display_data"
    },
    {
     "data": {
      "text/html": [
       "Syncing run <strong><a href='https://wandb.ai/turkunov/mipt_nlp_w2v/runs/e4zflnt4' target=\"_blank\">word2vec_v31</a></strong> to <a href='https://wandb.ai/turkunov/mipt_nlp_w2v' target=\"_blank\">Weights & Biases</a> (<a href='https://wandb.me/developer-guide' target=\"_blank\">docs</a>)<br/>"
      ],
      "text/plain": [
       "<IPython.core.display.HTML object>"
      ]
     },
     "metadata": {},
     "output_type": "display_data"
    },
    {
     "data": {
      "text/html": [
       " View project at <a href='https://wandb.ai/turkunov/mipt_nlp_w2v' target=\"_blank\">https://wandb.ai/turkunov/mipt_nlp_w2v</a>"
      ],
      "text/plain": [
       "<IPython.core.display.HTML object>"
      ]
     },
     "metadata": {},
     "output_type": "display_data"
    },
    {
     "data": {
      "text/html": [
       " View run at <a href='https://wandb.ai/turkunov/mipt_nlp_w2v/runs/e4zflnt4' target=\"_blank\">https://wandb.ai/turkunov/mipt_nlp_w2v/runs/e4zflnt4</a>"
      ],
      "text/plain": [
       "<IPython.core.display.HTML object>"
      ]
     },
     "metadata": {},
     "output_type": "display_data"
    },
    {
     "name": "stderr",
     "output_type": "stream",
     "text": [
      "100%|██████████| 1000/1000 [00:29<00:00, 34.30it/s, epoch=999, loss=1.15e+4]\n"
     ]
    },
    {
     "data": {
      "text/html": [
       "\n",
       "    <style>\n",
       "        .wandb-row {\n",
       "            display: flex;\n",
       "            flex-direction: row;\n",
       "            flex-wrap: wrap;\n",
       "            justify-content: flex-start;\n",
       "            width: 100%;\n",
       "        }\n",
       "        .wandb-col {\n",
       "            display: flex;\n",
       "            flex-direction: column;\n",
       "            flex-basis: 100%;\n",
       "            flex: 1;\n",
       "            padding: 10px;\n",
       "        }\n",
       "    </style>\n",
       "<div class=\"wandb-row\"><div class=\"wandb-col\"><h3>Run history:</h3><br/><table class=\"wandb\"><tr><td>epoch</td><td>▁▁▁▁▂▂▂▂▂▂▂▃▃▃▃▄▄▄▄▄▅▅▅▅▅▅▅▆▆▆▆▆▆▆▆▇▇▇▇█</td></tr><tr><td>train_accuracy</td><td>▁▂▃▃████████████████████████████████████</td></tr><tr><td>train_loss</td><td>█▅▃▃▂▁▁▁▁▁▁▁▁▁▁▁▁▁▁▁▁▁▁▁▁▁▁▁▁▁▁▁▁▁▁▁▁▁▁▁</td></tr></table><br/></div><div class=\"wandb-col\"><h3>Run summary:</h3><br/><table class=\"wandb\"><tr><td>epoch</td><td>1000</td></tr><tr><td>train_accuracy</td><td>0.13545</td></tr><tr><td>train_loss</td><td>11522.86726</td></tr></table><br/></div></div>"
      ],
      "text/plain": [
       "<IPython.core.display.HTML object>"
      ]
     },
     "metadata": {},
     "output_type": "display_data"
    },
    {
     "data": {
      "text/html": [
       " View run <strong style=\"color:#cdcd00\">word2vec_v31</strong> at: <a href='https://wandb.ai/turkunov/mipt_nlp_w2v/runs/e4zflnt4' target=\"_blank\">https://wandb.ai/turkunov/mipt_nlp_w2v/runs/e4zflnt4</a><br/> View project at: <a href='https://wandb.ai/turkunov/mipt_nlp_w2v' target=\"_blank\">https://wandb.ai/turkunov/mipt_nlp_w2v</a><br/>Synced 5 W&B file(s), 0 media file(s), 0 artifact file(s) and 0 other file(s)"
      ],
      "text/plain": [
       "<IPython.core.display.HTML object>"
      ]
     },
     "metadata": {},
     "output_type": "display_data"
    },
    {
     "data": {
      "text/html": [
       "Find logs at: <code>.\\wandb\\run-20250311_214145-e4zflnt4\\logs</code>"
      ],
      "text/plain": [
       "<IPython.core.display.HTML object>"
      ]
     },
     "metadata": {},
     "output_type": "display_data"
    }
   ],
   "source": [
    "from tqdm.auto import tqdm\n",
    "import wandb\n",
    "import yaml\n",
    "import os\n",
    "import logging \n",
    "\n",
    "\n",
    "config = {\n",
    "    'lr': 2e-3,\n",
    "    'max_epochs': 1000,\n",
    "    'vocab_size': len(w2i),\n",
    "    'model': 'fc_fc_softmax',\n",
    "    'data': 'text2 + fixed tokens',\n",
    "    'grad_clipping': True,\n",
    "    'embed_d': 256,\n",
    "    'skipgram_window_size': 3,\n",
    "    'hidden_d': 64,\n",
    "}\n",
    "\n",
    "\n",
    "LOGS_DIR = './logs'\n",
    "RUN_VERSION = 31  # don't forget to change\n",
    "LOG_PARAMS = True\n",
    "LOG_WANDB = True\n",
    "config['version'] = RUN_VERSION\n",
    "\n",
    "logger = logging.getLogger(__name__)\n",
    "logging.basicConfig(level=logging.DEBUG)\n",
    "def log_run_params(run_version: int, config: dict) -> None:\n",
    "    f_path = os.path.join(LOGS_DIR,f'run_v{run_version}.yml')\n",
    "    with open(f_path, 'w') as outfile:\n",
    "        yaml.dump(config, outfile, default_flow_style=False)\n",
    "    logger.info(f'Saved params to {f_path}')\n",
    "\n",
    "\n",
    "optimizer = SGD_optimizer()\n",
    "model = word2vec_lite_model_only_fc(\n",
    "    optim=optimizer,\n",
    "    embed_dims=config['embed_d'],\n",
    "    hidden_dims=config['hidden_d'],\n",
    "    vocab_size=config['vocab_size'],\n",
    "    lr=config['lr'],\n",
    ")\n",
    "config['optimizer'] = optimizer.__class__.__name__\n",
    "X, y = generate_training_data(tokens, w2i, config['skipgram_window_size'])\n",
    "\n",
    "if LOG_PARAMS:\n",
    "    log_run_params(RUN_VERSION, config)\n",
    "if LOG_WANDB:\n",
    "    run = wandb.init(\n",
    "        project='mipt_nlp_w2v',\n",
    "        name=f'word2vec_v{RUN_VERSION}',\n",
    "        config=config)\n",
    "pbar = tqdm(range(0,config['max_epochs']))\n",
    "\n",
    "for epoch in pbar:\n",
    "    _ = model.forward(X, y)\n",
    "    model.backward(X, y)\n",
    "    model.update(grad_clip=config['grad_clipping'])\n",
    "    pbar.set_postfix(epoch=epoch,loss=model.losses[-1],refresh=False)\n",
    "    if LOG_WANDB:\n",
    "        run.log({\n",
    "            'epoch': epoch+1,\n",
    "            'train_loss': model.losses[-1],\n",
    "            'train_accuracy': model.accuracies[-1]\n",
    "        })\n",
    "\n",
    "if LOG_WANDB:\n",
    "    run.finish()"
   ]
  },
  {
   "cell_type": "markdown",
   "metadata": {},
   "source": [
    "### Evaluating training results of a custom word2vec "
   ]
  },
  {
   "cell_type": "code",
   "execution_count": 94,
   "metadata": {},
   "outputs": [
    {
     "data": {
      "image/png": "[encoded data removed]",
      "text/plain": [
       "<Figure size 900x300 with 2 Axes>"
      ]
     },
     "metadata": {},
     "output_type": "display_data"
    }
   ],
   "source": [
    "import matplotlib.pyplot as plt\n",
    "\n",
    "logger = logging.getLogger(__name__)\n",
    "logger.setLevel(logging.WARNING)\n",
    "\n",
    "fig, axs = plt.subplots(1, 2, figsize=(9, 3))\n",
    "axs[0].plot(list(range(0,config['max_epochs'])),model.losses)\n",
    "axs[0].set(title='train_loss',xlabel='epoch',ylabel='CE value')\n",
    "axs[1].plot(list(range(0,config['max_epochs'])),model.accuracies)\n",
    "axs[1].set(title='train_accuracy',xlabel='epoch',ylabel='accuracy')\n",
    "fig.tight_layout()"
   ]
  },
  {
   "cell_type": "code",
   "execution_count": null,
   "metadata": {},
   "outputs": [],
   "source": [
    "# saving model locally\n",
    "\n",
    "\"\"\"import pickle\n",
    "\n",
    "model_pkl_file = f\"./artifacts/w2v_v{RUN_VERSION}.pkl\"  \n",
    "\n",
    "with open(model_pkl_file, 'wb') as file:  \n",
    "    pickle.dump(model, file)\n",
    "    logger.info('successfully dumped the model')\"\"\""
   ]
  },
  {
   "cell_type": "markdown",
   "metadata": {},
   "source": [
    "### Initializing a simplier model using torch api\n",
    "Replace two fully connected layers with a single embedding matrix, that we'll use as a lookup table."
   ]
  },
  {
   "cell_type": "code",
   "execution_count": 104,
   "metadata": {},
   "outputs": [
    {
     "name": "stderr",
     "output_type": "stream",
     "text": [
      "100%|██████████| 500/500 [00:56<00:00,  8.84it/s, av_loss=tensor(0.0254, grad_fn=<DivBackward0>), epoch=499]\n"
     ]
    },
    {
     "data": {
      "text/html": [
       "\n",
       "    <style>\n",
       "        .wandb-row {\n",
       "            display: flex;\n",
       "            flex-direction: row;\n",
       "            flex-wrap: wrap;\n",
       "            justify-content: flex-start;\n",
       "            width: 100%;\n",
       "        }\n",
       "        .wandb-col {\n",
       "            display: flex;\n",
       "            flex-direction: column;\n",
       "            flex-basis: 100%;\n",
       "            flex: 1;\n",
       "            padding: 10px;\n",
       "        }\n",
       "    </style>\n",
       "<div class=\"wandb-row\"><div class=\"wandb-col\"><h3>Run history:</h3><br/><table class=\"wandb\"><tr><td>epoch</td><td>▁▁▁▂▂▂▂▂▂▃▃▃▃▃▃▃▃▃▃▄▄▄▄▄▄▅▅▅▅▅▆▆▆▇▇▇▇███</td></tr><tr><td>train_av_loss</td><td>██▇▆▄▄▃▃▃▃▃▂▂▂▂▂▂▂▁▁▁▁▁▁▁▁▁▁▁▁▁▁▁▁▁▁▁▁▁▁</td></tr></table><br/></div><div class=\"wandb-col\"><h3>Run summary:</h3><br/><table class=\"wandb\"><tr><td>epoch</td><td>500</td></tr><tr><td>train_av_loss</td><td>0.0254</td></tr></table><br/></div></div>"
      ],
      "text/plain": [
       "<IPython.core.display.HTML object>"
      ]
     },
     "metadata": {},
     "output_type": "display_data"
    },
    {
     "data": {
      "text/html": [
       " View run <strong style=\"color:#cdcd00\">word2vec_v33_pytorch</strong> at: <a href='https://wandb.ai/turkunov/mipt_nlp_w2v/runs/9zemvsow' target=\"_blank\">https://wandb.ai/turkunov/mipt_nlp_w2v/runs/9zemvsow</a><br/> View project at: <a href='https://wandb.ai/turkunov/mipt_nlp_w2v' target=\"_blank\">https://wandb.ai/turkunov/mipt_nlp_w2v</a><br/>Synced 5 W&B file(s), 0 media file(s), 0 artifact file(s) and 0 other file(s)"
      ],
      "text/plain": [
       "<IPython.core.display.HTML object>"
      ]
     },
     "metadata": {},
     "output_type": "display_data"
    },
    {
     "data": {
      "text/html": [
       "Find logs at: <code>.\\wandb\\run-20250311_215635-9zemvsow\\logs</code>"
      ],
      "text/plain": [
       "<IPython.core.display.HTML object>"
      ]
     },
     "metadata": {},
     "output_type": "display_data"
    }
   ],
   "source": [
    "import torch.nn as nn\n",
    "\n",
    "\n",
    "class SkipGram(nn.Module):\n",
    "    def __init__(self, vocab_size, embed_dims):\n",
    "        super().__init__()\n",
    "        self.embeds = nn.Embedding(vocab_size, embed_dims)\n",
    "\n",
    "    def forward(self, center):\n",
    "        return self.embeds(center)\n",
    "\n",
    "\n",
    "def training_step(model_embed, x, y, optimizer):\n",
    "    optimizer.zero_grad()\n",
    "    \n",
    "    # onehot encoding distribution\n",
    "    y_hat = torch.zeros((len(y), model_embed.embeds.weight.shape[0]))\n",
    "    for i, obs in enumerate(y):\n",
    "        y_hat[i, obs] = 1.0\n",
    "\n",
    "    inp_embed = model_embed(x)\n",
    "    out = nn.LogSoftmax(dim=-1)(inp_embed @ model_embed.embeds.weight.T)\n",
    "    loss = -(out*y_hat).mean()\n",
    "    loss.backward()\n",
    "    optimizer.step()\n",
    "\n",
    "    return loss\n",
    "\n",
    "\n",
    "# reconfiguring params\n",
    "RUN_VERSION += 1\n",
    "config['version'] = RUN_VERSION\n",
    "config['max_epochs'] = 500\n",
    "config['embed_d'] = 256\n",
    "config['model'] = 'embed_torch'\n",
    "config['data'] = 'text2_minibatched_shuffled'\n",
    "config['lr'] = 5e-4\n",
    "torch_model = SkipGram(config['vocab_size'],config['embed_d'])  # model init\n",
    "optimizer = torch.optim.Adam(torch_model.parameters(),lr=config['lr'])  # optimizer init\n",
    "config['optimizer'] = optimizer.__class__.__name__\n",
    "\n",
    "if LOG_PARAMS:\n",
    "    log_run_params(RUN_VERSION, config)\n",
    "if LOG_WANDB:\n",
    "    run = wandb.init(\n",
    "        project='mipt_nlp_w2v',\n",
    "        name=f'word2vec_v{RUN_VERSION}_pytorch',\n",
    "        config=config)\n",
    "\n",
    "# training\n",
    "pbar = tqdm(range(0,config['max_epochs']))\n",
    "av_losses = []\n",
    "for epoch in pbar:\n",
    "    losses = []\n",
    "    for x, y in train_dl:\n",
    "        loss = training_step(torch_model, x, y, optimizer)\n",
    "        losses.append(loss)\n",
    "    av_losses.append(sum(losses) / len(losses))\n",
    "    pbar.set_postfix(epoch=epoch,av_loss=av_losses[-1],refresh=False)\n",
    "    if LOG_WANDB:\n",
    "        run.log({\n",
    "            'epoch': epoch+1,\n",
    "            'train_av_loss': av_losses[-1]\n",
    "        })\n",
    "\n",
    "if LOG_WANDB:\n",
    "    run.finish()"
   ]
  },
  {
   "cell_type": "markdown",
   "metadata": {},
   "source": [
    "### Evaluating training results of a simplier model"
   ]
  },
  {
   "cell_type": "code",
   "execution_count": 105,
   "metadata": {},
   "outputs": [
    {
     "data": {
      "image/png": "[encoded data removed]",
      "text/plain": [
       "<Figure size 640x480 with 1 Axes>"
      ]
     },
     "metadata": {},
     "output_type": "display_data"
    }
   ],
   "source": [
    "plt.plot(list(range(config['max_epochs'])), list(map(lambda x: x.item(), av_losses)))\n",
    "plt.xlabel('epoch')\n",
    "plt.ylabel('averaged CE')\n",
    "plt.show()"
   ]
  },
  {
   "cell_type": "markdown",
   "metadata": {},
   "source": [
    "### Look at different training iterations on wandb dashboard"
   ]
  },
  {
   "cell_type": "code",
   "execution_count": 15,
   "metadata": {},
   "outputs": [
    {
     "data": {
      "text/html": [
       "\n",
       "        <iframe\n",
       "            width=\"960\"\n",
       "            height=\"512\"\n",
       "            src=\"https://api.wandb.ai/links/turkunov/f06f0bla\"\n",
       "            frameborder=\"0\"\n",
       "            allowfullscreen\n",
       "            \n",
       "        ></iframe>\n",
       "        "
      ],
      "text/plain": [
       "<IPython.lib.display.IFrame at 0x2064215dc10>"
      ]
     },
     "execution_count": 15,
     "metadata": {},
     "output_type": "execute_result"
    }
   ],
   "source": [
    "from IPython.display import IFrame\n",
    "\n",
    "wandb_report_url = 'https://api.wandb.ai/links/turkunov/f06f0bla'\n",
    "IFrame(src=wandb_report_url, width=960, height=512)"
   ]
  },
  {
   "cell_type": "markdown",
   "metadata": {},
   "source": [
    "### Playing around with embeddings\n",
    "We're going to try extracting word embeddings as well as find closest candidates to a specific token"
   ]
  },
  {
   "cell_type": "code",
   "execution_count": null,
   "metadata": {},
   "outputs": [],
   "source": [
    "import pickle\n",
    "\n",
    "# loading the model of version {RUN_VERSION}\n",
    "\"\"\"RUN_VERSION = 8\n",
    "model_pkl_file = f\"./artifacts/w2v_v{RUN_VERSION}.pkl\"  \n",
    "with open(model_pkl_file, 'rb') as file:  \n",
    "    model = pickle.load(file)\"\"\"\n",
    "\n",
    "def find_closest_custom(model, word: str, w2i: dict, i2w: dict, k: int = 10) -> list:\n",
    "    word_input = np.array([ohe(w2i[word], len(w2i))])\n",
    "    candidates = model.forward(word_input).argsort()[0][::-1]\n",
    "    return list(map(lambda i: i2w[i], candidates[:k]))\n",
    "\n",
    "def generate_embedding_custom(model, word: str, w2i: dict) -> np.ndarray:\n",
    "    word_input = np.array([ohe(w2i[word], len(w2i))])\n",
    "    _ = model.forward(word_input)\n",
    "    print(model.cache['a1'].shape)\n",
    "    return model.cache['a1']\n",
    "\n",
    "def generate_embedding_torch(model: nn.Module, word: str, w2i: dict) -> torch.Tensor:\n",
    "    model.eval()\n",
    "    embed = model(torch.as_tensor(w2i[word]).long()).cpu()\n",
    "    model.train()\n",
    "    return embed"
   ]
  },
  {
   "cell_type": "code",
   "execution_count": 107,
   "metadata": {},
   "outputs": [
    {
     "name": "stdout",
     "output_type": "stream",
     "text": [
      "man VS boy :: 0.08135592937469482\n",
      "man VS spring :: 0.23882758617401123\n"
     ]
    }
   ],
   "source": [
    "def l2(x: np.ndarray, y: np.ndarray) -> float:\n",
    "    return np.sum((x-y)**2)**.5\n",
    "\n",
    "def cos_dist(x: np.ndarray, y: np.ndarray) -> float:\n",
    "    return 1 - (x*y).sum() / ((x**2).sum() * (y**2).sum()) ** .5\n",
    "\n",
    "pairs = [('man','boy'),('man','spring')]\n",
    "for t1, t2 in pairs:\n",
    "    emb1, emb2 = generate_embedding_torch(torch_model,t1,w2i), generate_embedding_torch(torch_model,t2,w2i)\n",
    "    print(f'{t1} VS {t2} :: {cos_dist(emb1, emb2)}')"
   ]
  },
  {
   "cell_type": "markdown",
   "metadata": {},
   "source": [
    "### Placing the best model inside `solution.py` "
   ]
  },
  {
   "cell_type": "code",
   "execution_count": null,
   "metadata": {},
   "outputs": [
    {
     "name": "stderr",
     "output_type": "stream",
     "text": [
      "100%|██████████| 1000/1000 [01:48<00:00,  9.21it/s, av_loss=tensor(0.0233, grad_fn=<DivBackward0>), epoch=999]\n"
     ]
    }
   ],
   "source": [
    "from solution import train\n",
    "import re\n",
    "import string\n",
    "\n",
    "def clean_and_tokenize(inp: str, only_clean: bool = False) -> list: \n",
    "\n",
    "    # maps (replaces) each punctuation to \" \"\n",
    "    inp = inp.translate(str.maketrans(string.punctuation, \" \"*len(string.punctuation)))\n",
    "\n",
    "    # replaces multi-spaces with \" \"\n",
    "    inp = re.sub(r'\\s+', ' ', inp.lower())\n",
    "\n",
    "    return inp if only_clean else inp.split()\n",
    "\n",
    "word2vec_dict = train(clean_and_tokenize(text2,only_clean=True))"
   ]
  },
  {
   "cell_type": "code",
   "execution_count": null,
   "metadata": {},
   "outputs": [
    {
     "name": "stdout",
     "output_type": "stream",
     "text": [
      "man VS boy :: 0.06856048107147217\n",
      "man VS girl :: 0.11991536617279053\n"
     ]
    }
   ],
   "source": [
    "def l2(x: torch.Tensor, y: torch.Tensor) -> float:\n",
    "    return torch.sum((x-y)**2)**.5\n",
    "\n",
    "def cos_dist(x: torch.Tensor, y: torch.Tensor) -> float:\n",
    "    return 1 - (x*y).sum() / ((x**2).sum() * (y**2).sum()) ** .5\n",
    "\n",
    "pairs = [('man','boy'),('man','girl')]\n",
    "for t1, t2 in pairs:\n",
    "    emb1, emb2 = word2vec_dict[t1], word2vec_dict[t2]\n",
    "    print(f'{t1} VS {t2} :: {cos_dist(emb1, emb2)}')"
   ]
  },
  {
   "cell_type": "markdown",
   "metadata": {},
   "source": [
    "### Conclusions\n",
    "* Activations affect model's performance significantly\n",
    "* More layers damage model's learning cabilities (loss curve becomes more noisy)\n",
    "* Shuffled minibatches of windows work better than pairs taken from consecutive windows. Training is more stable."
   ]
  }
 ],
 "metadata": {
  "kernelspec": {
   "display_name": "intense",
   "language": "python",
   "name": "python3"
  },
  "language_info": {
   "codemirror_mode": {
    "name": "ipython",
    "version": 3
   },
   "file_extension": ".py",
   "mimetype": "text/x-python",
   "name": "python",
   "nbconvert_exporter": "python",
   "pygments_lexer": "ipython3",
   "version": "3.12.4"
  }
 },
 "nbformat": 4,
 "nbformat_minor": 2
}
